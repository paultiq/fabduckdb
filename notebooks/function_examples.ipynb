{
 "cells": [
  {
   "cell_type": "code",
   "execution_count": null,
   "metadata": {},
   "outputs": [],
   "source": [
    "%load_ext autoreload\n",
    "%autoreload 2\n",
    "\n",
    "import logging\n",
    "\n",
    "\n",
    "logging.basicConfig(\n",
    "    format='%(asctime)s %(name)s %(levelname)-8s %(message)s',\n",
    "    level=logging.DEBUG,\n",
    "    datefmt='%Y-%m-%d %H:%M:%S')\n",
    "\n",
    "logger = logging.getLogger(\"fab_duckdb\")\n",
    "logger.setLevel(logging.DEBUG)\n",
    "\n"
   ]
  },
  {
   "cell_type": "code",
   "execution_count": null,
   "metadata": {},
   "outputs": [],
   "source": [
    "import pandas as pd\n",
    "import numpy as np\n",
    "from datetime import datetime\n",
    "def df_creator(x: int) -> pd.DataFrame:\n",
    "    start_date = datetime(2023, 1, 1)\n",
    "    end_date = datetime(2023, 12, 31)\n",
    "    num_rows = x\n",
    "\n",
    "    datetime_col = pd.date_range(start_date, end_date, periods=num_rows)\n",
    "\n",
    "    # Generate random numeric values\n",
    "    numeric_col1 = np.random.rand(num_rows)\n",
    "    numeric_col2 = np.random.randint(1, 100, num_rows)\n",
    "\n",
    "    # Generate random string values\n",
    "    string_col1 = np.random.choice(['apple', 'banana', 'cherry'], num_rows)\n",
    "    string_col2 = np.random.choice(['red', 'green', 'blue'], num_rows)\n",
    "\n",
    "    # Create the pandas DataFrame\n",
    "    data = {\n",
    "        'DateTime': datetime_col,\n",
    "        'Numeric1': numeric_col1,\n",
    "        'Numeric2': numeric_col2,\n",
    "        'String1': string_col1,\n",
    "        'String2': string_col2\n",
    "    }\n",
    "\n",
    "    df = pd.DataFrame(data)\n",
    "    return df\n",
    "\n",
    "display(df_creator(2))"
   ]
  },
  {
   "cell_type": "code",
   "execution_count": null,
   "metadata": {},
   "outputs": [],
   "source": [
    "import fabduckdb\n",
    "from fabduckdb import fab_functions\n",
    "\n",
    "fabduckdb.register()\n",
    "\n",
    "fabduckdb.register_function(\"mydfcreator\", df_creator, generates_filepath=False)"
   ]
  },
  {
   "cell_type": "code",
   "execution_count": null,
   "metadata": {},
   "outputs": [],
   "source": [
    "import fabduckdb\n",
    "import duckdb\n",
    "\n",
    "fabduckdb.register()\n",
    "fabduckdb.register_function(\"dfcreate\", lambda rows, cols: pd.DataFrame(np.random.rand(rows, cols)), generates_filepath=False)\n",
    "\n",
    "duckdb.connect().execute(\"select * from dfcreate(3,4)\").df()\n"
   ]
  },
  {
   "cell_type": "code",
   "execution_count": null,
   "metadata": {},
   "outputs": [],
   "source": [
    "import fabduckdb\n",
    "\n",
    "fabduckdb.register()\n",
    "fabduckdb.register_function(\"dfcreate\", lambda rows, cols, filename: pd.DataFrame(np.random.rand(rows, cols)).to_parquet(filename), generates_filepath=True)\n",
    "\n",
    "duckdb.connect().execute(\"select * from dfcreate(3,4)\").df()"
   ]
  },
  {
   "cell_type": "code",
   "execution_count": null,
   "metadata": {},
   "outputs": [],
   "source": [
    "import fabduckdb\n",
    "from fabduckdb import fab_functions\n",
    "\n",
    "fabduckdb.register()\n",
    "\n",
    "fabduckdb.register_function(\"df_creator\", lambda rows, cols: pd.DataFrame(np.random.rand(rows, cols)), generates_filepath=False)\n",
    "\n",
    "\n",
    "fab_functions.extract_and_replace_functions(\"select * from mydfcreator(1,2)\")"
   ]
  },
  {
   "cell_type": "code",
   "execution_count": null,
   "metadata": {},
   "outputs": [],
   "source": [
    "import fabduckdb\n",
    "import duckdb\n",
    "import pandas as pd\n",
    "import numpy as np\n",
    "\n",
    "fabduckdb.register()\n",
    "fabduckdb.register_function(\"dfcreate\", lambda rows, cols, filename: pd.DataFrame(np.random.rand(rows, cols)).to_parquet(filename), generates_filepath=True)\n",
    "\n",
    "duckdb.connect().execute(\"select * from dfcreate(3,4)\").df()\n"
   ]
  }
 ],
 "metadata": {
  "kernelspec": {
   "display_name": "fabduck1",
   "language": "python",
   "name": "python3"
  },
  "language_info": {
   "codemirror_mode": {
    "name": "ipython",
    "version": 3
   },
   "file_extension": ".py",
   "mimetype": "text/x-python",
   "name": "python",
   "nbconvert_exporter": "python",
   "pygments_lexer": "ipython3",
   "version": "3.11.3"
  }
 },
 "nbformat": 4,
 "nbformat_minor": 2
}
