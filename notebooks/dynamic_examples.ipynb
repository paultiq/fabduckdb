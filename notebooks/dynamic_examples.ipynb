{
 "cells": [
  {
   "cell_type": "code",
   "execution_count": null,
   "metadata": {},
   "outputs": [],
   "source": [
    "%load_ext autoreload\n",
    "%autoreload 2\n",
    "\n",
    "import logging\n",
    "\n",
    "\n",
    "logging.basicConfig(\n",
    "    format='%(asctime)s %(name)s %(levelname)-8s %(message)s',\n",
    "    level=logging.DEBUG,\n",
    "    datefmt='%Y-%m-%d %H:%M:%S')\n",
    "\n",
    "logger = logging.getLogger(\"fab_duckdb\")\n",
    "logger.setLevel(logging.DEBUG)\n",
    "\n"
   ]
  },
  {
   "cell_type": "code",
   "execution_count": null,
   "metadata": {},
   "outputs": [],
   "source": [
    "import duckdb \n",
    "import fabduckdb"
   ]
  },
  {
   "cell_type": "code",
   "execution_count": null,
   "metadata": {},
   "outputs": [],
   "source": [
    "query = \"select 'select * from range(' || x::varchar || ')' from range(3) t(x)\" \n",
    "\n",
    "duckdb.execute(query).df()"
   ]
  },
  {
   "cell_type": "code",
   "execution_count": null,
   "metadata": {},
   "outputs": [],
   "source": [
    "query = \"execute (select 'select * from range(' || x::varchar || ')' from range(3) t(x))\" \n",
    "\n",
    "duckdb.default_connection.execute(query).df()"
   ]
  },
  {
   "cell_type": "code",
   "execution_count": null,
   "metadata": {},
   "outputs": [],
   "source": [
    "# Dynamic SQL Example\n",
    "\n",
    "import duckdb\n",
    "\n",
    "import fabduckdb\n",
    "\n",
    "statement = \"execute (select 'select ' || i || ' as r, x from range(' || i || ') t(x)' from range(4) t(i)) using ('union all by name')\"\n",
    "\n",
    "duckdb.default_connection.execute(statement).df()"
   ]
  }
 ],
 "metadata": {
  "kernelspec": {
   "display_name": "fabduck1",
   "language": "python",
   "name": "python3"
  },
  "language_info": {
   "codemirror_mode": {
    "name": "ipython",
    "version": 3
   },
   "file_extension": ".py",
   "mimetype": "text/x-python",
   "name": "python",
   "nbconvert_exporter": "python",
   "pygments_lexer": "ipython3",
   "version": "3.11.3"
  }
 },
 "nbformat": 4,
 "nbformat_minor": 2
}
