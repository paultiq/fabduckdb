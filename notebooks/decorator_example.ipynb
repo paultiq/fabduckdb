{
 "cells": [
  {
   "cell_type": "code",
   "execution_count": null,
   "metadata": {},
   "outputs": [],
   "source": [
    "%load_ext autoreload\n",
    "%autoreload 2\n",
    "\n",
    "import time\n",
    "import duckdb \n",
    "import fabduckdb\n",
    "import logging\n",
    "\n",
    "logging.basicConfig(\n",
    "    format='%(asctime)s %(name)s %(levelname)-8s %(message)s',\n",
    "    level=logging.DEBUG,\n",
    "    datefmt='%Y-%m-%d %H:%M:%S')\n",
    "\n",
    "\n",
    "logger = logging.getLogger()"
   ]
  },
  {
   "cell_type": "code",
   "execution_count": null,
   "metadata": {},
   "outputs": [],
   "source": [
    "# Logging decorator\n",
    "def execute_decorator_log(func, prefix = \"\"):\n",
    "    def wrapper(*args, **kwargs):\n",
    "        start = time.time()\n",
    "        result = func(*args, **kwargs)\n",
    "        end = time.time()\n",
    "        logger.info(f\"{prefix}Query duration: {round(end-start, 3)}s, {args} {kwargs}\")\n",
    "        return result\n",
    "    return wrapper\n",
    "\n",
    "fabduckdb.wrap_execute(execute_decorator_log, append=False)\n",
    "\n",
    "duckdb.default_connection.execute(\"pragma version\").df()"
   ]
  }
 ],
 "metadata": {
  "kernelspec": {
   "display_name": "fabduck1",
   "language": "python",
   "name": "python3"
  },
  "language_info": {
   "codemirror_mode": {
    "name": "ipython",
    "version": 3
   },
   "file_extension": ".py",
   "mimetype": "text/x-python",
   "name": "python",
   "nbconvert_exporter": "python",
   "pygments_lexer": "ipython3",
   "version": "3.11.3"
  }
 },
 "nbformat": 4,
 "nbformat_minor": 2
}
