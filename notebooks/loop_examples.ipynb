{
 "cells": [
  {
   "cell_type": "code",
   "execution_count": null,
   "metadata": {},
   "outputs": [],
   "source": [
    "%load_ext autoreload\n",
    "%autoreload 2\n",
    "\n",
    "\n",
    "import logging\n",
    "\n",
    "\n",
    "logging.basicConfig(\n",
    "    format='%(asctime)s %(name)s %(levelname)-8s %(message)s',\n",
    "    level=logging.DEBUG,\n",
    "    datefmt='%Y-%m-%d %H:%M:%S')\n",
    "\n",
    "logger = logging.getLogger(\"fab_duckdb\")\n",
    "logger.setLevel(logging.DEBUG)\n",
    "\n"
   ]
  },
  {
   "cell_type": "code",
   "execution_count": null,
   "metadata": {},
   "outputs": [],
   "source": [
    "import duckdb\n",
    "import fabduckdb\n",
    "\n",
    "createstatement = \"CREATE or REPLACE TABLE abc as SELECT * FROM range(1,10,1) t(x);CREATE or REPLACE TABLE def as SELECT * FROM range(20,30,2) t(x)\"\n",
    "loopstatement = \"loop (select * from {{x}}) over (select x from (values('abc'), ('def')) t(x))\"\n",
    "duckdb.execute(createstatement)\n",
    "duckdb.execute(loopstatement).df()"
   ]
  },
  {
   "cell_type": "code",
   "execution_count": null,
   "metadata": {},
   "outputs": [],
   "source": [
    "import duckdb\n",
    "import fabduckdb\n",
    "\n",
    "createstatement = \"CREATE or REPLACE TABLE abc as SELECT * FROM range(1,10,1) t(x);CREATE or REPLACE TABLE def as SELECT * FROM range(20,30,2) t(x)\"\n",
    "loopstatement = \"loop (select * from {{x}}) over (select x from (values('abc'), ('def')) t(x))\"\n",
    "duckdb.default_connection.execute(createstatement)\n",
    "duckdb.default_connection.execute(loopstatement).df()"
   ]
  },
  {
   "cell_type": "code",
   "execution_count": null,
   "metadata": {},
   "outputs": [],
   "source": [
    "# Embedded Loop\n",
    "\n",
    "import duckdb\n",
    "import fabduckdb\n",
    "\n",
    "createstatement = \"CREATE or REPLACE TABLE abc as SELECT * FROM range(1,10,1) t(x);CREATE or REPLACE TABLE def as SELECT * FROM range(20,30,2) t(x)\"\n",
    "loopstatement = \"create table xyz as (loop (select * from {{x}}) over (select x from (values('abc'), ('def')) t(x)))\"\n",
    "duckdb.default_connection.execute(createstatement)\n",
    "duckdb.default_connection.execute(loopstatement)\n",
    "df = duckdb.default_connection.execute(\"select * from xyz\").df()\n",
    "df"
   ]
  },
  {
   "cell_type": "code",
   "execution_count": null,
   "metadata": {},
   "outputs": [],
   "source": [
    "# Demonstrate a more interesting Jinja2 Template\n",
    "\n",
    "import duckdb\n",
    "import fabduckdb\n",
    "\n",
    "createstatement = \"CREATE or REPLACE TABLE abc as SELECT * FROM range(1,10,1) t(y);CREATE or REPLACE TABLE def as SELECT * FROM range(20,30,2) t(y)\"\n",
    "\n",
    "template_statement = \"\"\"\n",
    "    {% set val = \"'Abc is as easy as 123'\" if x == 'abc' else \"'I am he who is x, y and zee'\"%}\n",
    "    select \n",
    "    '{{x}}', y, {{val}} from {{x}}\n",
    "\"\"\"\n",
    "loopstatement = f\"create or REPLACE table xyz as (loop ({template_statement}) over (select x from (values('abc'), ('def')) t(x)))\"\n",
    "\n",
    "duckdb.default_connection.execute(createstatement)\n",
    "duckdb.default_connection.execute(loopstatement)\n",
    "df = duckdb.default_connection.execute(\"select * from xyz\").df()\n",
    "\n",
    "display(df)"
   ]
  },
  {
   "cell_type": "code",
   "execution_count": null,
   "metadata": {},
   "outputs": [],
   "source": [
    "# Run different SQL depending on value\n",
    "import duckdb\n",
    "import fabduckdb\n",
    "\n",
    "createstatement = \"CREATE or REPLACE TABLE abc as SELECT * FROM range(1,10,1) t(y);CREATE or REPLACE TABLE def as SELECT * FROM range(20,30,2) t(y)\"\n",
    "\n",
    "template_statement = \"\"\"\n",
    "    {% set val = \"select y * 10 as abc123 from \" + x if x == 'abc' else \"select y * 100 as thisisnotabc from \" + x%}\n",
    "    {{val}}\n",
    "\"\"\"\n",
    "loopstatement = f\"create or REPLACE table xyz as (loop ({template_statement}) over (select x from (values('abc'), ('def')) t(x)) using 'union all by name')\"\n",
    "\n",
    "duckdb.default_connection.execute(createstatement)\n",
    "duckdb.default_connection.execute(loopstatement)\n",
    "df = duckdb.default_connection.execute(\"select * from xyz\").df()\n",
    "\n",
    "display(df)"
   ]
  }
 ],
 "metadata": {
  "kernelspec": {
   "display_name": "fabduck1",
   "language": "python",
   "name": "python3"
  },
  "language_info": {
   "codemirror_mode": {
    "name": "ipython",
    "version": 3
   },
   "file_extension": ".py",
   "mimetype": "text/x-python",
   "name": "python",
   "nbconvert_exporter": "python",
   "pygments_lexer": "ipython3",
   "version": "3.11.3"
  }
 },
 "nbformat": 4,
 "nbformat_minor": 2
}
