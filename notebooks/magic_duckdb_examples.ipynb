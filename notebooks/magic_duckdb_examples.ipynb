{
 "cells": [
  {
   "cell_type": "code",
   "execution_count": null,
   "metadata": {},
   "outputs": [],
   "source": [
    "%load_ext magic_duckdb\n",
    "\n",
    "\n",
    "import fabduckdb\n",
    "fabduckdb.register()\n"
   ]
  },
  {
   "cell_type": "code",
   "execution_count": null,
   "metadata": {},
   "outputs": [],
   "source": [
    "%%dql \n",
    "\n",
    "CREATE OR REPLACE TABLE abc as SELECT * FROM range(2);\n",
    "CREATE OR REPLACE TABLE def as SELECT * FROM range(3);\n",
    "\n",
    "execute\n",
    "        (WITH tablenames as (values ('abc'), ('def'))\n",
    "                SELECT 'select * from ' || col0 FROM tablenames)\n",
    "        using 'union all by name'"
   ]
  },
  {
   "cell_type": "code",
   "execution_count": null,
   "metadata": {},
   "outputs": [],
   "source": [
    "import fabduckdb\n",
    "import pandas as pd\n",
    "\n",
    "fabduckdb.register()\n",
    "\n",
    "fabduckdb.register_function(\"mydfcreator\", lambda x: pd.DataFrame([{f\"col{x}\": x}]), generates_filepath=False)"
   ]
  },
  {
   "cell_type": "code",
   "execution_count": null,
   "metadata": {},
   "outputs": [],
   "source": [
    "%%dql \n",
    "\n",
    "CREATE OR REPLACE TABLE xyz as SELECT * FROM range(4) t(x);\n",
    "\n",
    "create or replace table abc as \n",
    "    (loop (select {{x}}, * from mydfcreator({{x}})) over (select x from xyz) using 'union')\n",
    ";\n",
    "select * from abc\n"
   ]
  },
  {
   "cell_type": "code",
   "execution_count": null,
   "metadata": {},
   "outputs": [],
   "source": [
    "%%dql\n",
    "--- Templated Loop Example using magic_duckdb\n",
    ";\n",
    "CREATE or REPLACE TABLE abc as \n",
    "    SELECT * FROM range(1,10,1) t(x)\n",
    ";\n",
    "CREATE or REPLACE TABLE def as \n",
    "    SELECT * FROM range(20,30,2) t(x)\n",
    ";\n",
    "LOOP\n",
    "    (select {{x}}.x from {{x}}) \n",
    "OVER\n",
    "    (select x from (values('abc'), ('def')) t(x))"
   ]
  }
 ],
 "metadata": {
  "kernelspec": {
   "display_name": "fabduck1",
   "language": "python",
   "name": "python3"
  },
  "language_info": {
   "codemirror_mode": {
    "name": "ipython",
    "version": 3
   },
   "file_extension": ".py",
   "mimetype": "text/x-python",
   "name": "python",
   "nbconvert_exporter": "python",
   "pygments_lexer": "ipython3",
   "version": "3.11.3"
  }
 },
 "nbformat": 4,
 "nbformat_minor": 2
}
